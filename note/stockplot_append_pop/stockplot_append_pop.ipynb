{
 "cells": [
  {
   "cell_type": "markdown",
   "metadata": {},
   "source": [
    "タイトル\n",
    "Plotlyでぐりぐり動かせる為替チャートを作る(2)"
   ]
  },
  {
   "cell_type": "code",
   "execution_count": 1,
   "metadata": {
    "ExecuteTime": {
     "end_time": "2017-05-06T20:53:20.594887Z",
     "start_time": "2017-05-06T20:53:20.405716Z"
    },
    "collapsed": true,
    "run_control": {
     "frozen": false,
     "read_only": false
    }
   },
   "outputs": [],
   "source": [
    "import sys\n",
    "sys.path.append('../../bin/')"
   ]
  },
  {
   "cell_type": "markdown",
   "metadata": {},
   "source": [
    "[Qiita - u1and0 / Plotlyでぐりぐり動かせる為替チャートを作る(1)](http://qiita.com/u1and0/items/e2273bd8e03c670be45a)の続き\n",
    "指標の追加・削除・初期化ができるようになりました。"
   ]
  },
  {
   "cell_type": "markdown",
   "metadata": {},
   "source": [
    "![gif8](./stockplot_append_pop_files/gif8.gif)"
   ]
  },
  {
   "cell_type": "markdown",
   "metadata": {},
   "source": [
    "# 下準備"
   ]
  },
  {
   "cell_type": "markdown",
   "metadata": {},
   "source": [
    "## モジュールインポート\n",
    "必要なモジュールをインポートします。"
   ]
  },
  {
   "cell_type": "code",
   "execution_count": 2,
   "metadata": {
    "ExecuteTime": {
     "end_time": "2017-05-06T20:53:22.209943Z",
     "start_time": "2017-05-06T20:53:20.597386Z"
    },
    "run_control": {
     "frozen": false,
     "read_only": false
    }
   },
   "outputs": [
    {
     "data": {
      "text/html": [
       "<script>requirejs.config({paths: { 'plotly': ['https://cdn.plot.ly/plotly-latest.min']},});if(!window.Plotly) {{require(['plotly'],function(plotly) {window.Plotly=plotly;});}}</script>"
      ],
      "text/plain": [
       "<IPython.core.display.HTML object>"
      ]
     },
     "metadata": {},
     "output_type": "display_data"
    }
   ],
   "source": [
    "# ----------General Module----------\n",
    "import numpy as np\n",
    "import pandas as pd\n",
    "# ----------User Module----------\n",
    "from randomwalk import randomwalk\n",
    "import stockplot as sp"
   ]
  },
  {
   "cell_type": "code",
   "execution_count": 3,
   "metadata": {
    "ExecuteTime": {
     "end_time": "2017-05-06T20:53:22.516225Z",
     "start_time": "2017-05-06T20:53:22.212949Z"
    },
    "collapsed": true,
    "run_control": {
     "frozen": false,
     "read_only": false
    }
   },
   "outputs": [],
   "source": [
    "# ----------Hide General Module----------\n",
    "import stockstats\n",
    "import plotly"
   ]
  },
  {
   "cell_type": "markdown",
   "metadata": {},
   "source": [
    "* General Module, Hide General Moduleは一般に配布されているパッケージなので、condaやpipといったパッケージ管理ソフトなどで追加してください。\n",
    "    * General ModuleはこのJupyter Notebook内で使います。\n",
    "    * Hide General Moduleは`stockplot`内で使用します。\n",
    ">```sh\n",
    "conda install plotly\n",
    "pip install stockstats\n",
    "```\n",
    "* User Moduleのstockplotについては過去記事も併せてご覧ください。今回は**指標の追加・削除ができるようになりました。**\n",
    "    * [Qiita - u1and0 / Plotlyでぐりぐり動かせる為替チャートを作る(1)](http://qiita.com/u1and0/items/e2273bd8e03c670be45a)\n",
    "    * [Qiita - u1and0 / plotlyでキャンドルチャートプロット](http://qiita.com/u1and0/items/0ebcf097a1d61c636eb9)\n",
    "* random_walkについては[Qiita - u1and0 / pythonでローソク足(candle chart)の描画](http://qiita.com/u1and0/items/1d9afdb7216c3d2320ef)"
   ]
  },
  {
   "cell_type": "markdown",
   "metadata": {},
   "source": [
    "## サンプルデータの作成"
   ]
  },
  {
   "cell_type": "code",
   "execution_count": 4,
   "metadata": {
    "ExecuteTime": {
     "end_time": "2017-05-06T20:53:23.285885Z",
     "start_time": "2017-05-06T20:53:22.519212Z"
    },
    "collapsed": true,
    "run_control": {
     "frozen": false,
     "read_only": false
    }
   },
   "outputs": [],
   "source": [
    "# Make sample data\n",
    "np.random.seed(10)\n",
    "df = randomwalk(60 * 60 * 24 * 90, freq='S', tick=0.01, start=pd.datetime(2017, 3, 20))\\\n",
    "    .resample('T').ohlc() + 115  # 90日分の1分足, 初期値が115"
   ]
  },
  {
   "cell_type": "markdown",
   "metadata": {
    "ExecuteTime": {
     "end_time": "2017-05-06T01:26:10.414544Z",
     "start_time": "2017-05-06T01:26:10.093503Z"
    }
   },
   "source": [
    "ランダムな為替チャートを作成します。\n",
    "randomwalk関数で**2017/3/20からの1分足を90日分**作成します。"
   ]
  },
  {
   "cell_type": "markdown",
   "metadata": {},
   "source": [
    "## インスタンス化"
   ]
  },
  {
   "cell_type": "code",
   "execution_count": 5,
   "metadata": {
    "ExecuteTime": {
     "end_time": "2017-05-06T20:53:23.632156Z",
     "start_time": "2017-05-06T20:53:23.289869Z"
    },
    "collapsed": true,
    "run_control": {
     "frozen": false,
     "read_only": false
    }
   },
   "outputs": [],
   "source": [
    "# Convert DataFrame as StockPlot\n",
    "fx = sp.StockPlot(df)"
   ]
  },
  {
   "cell_type": "markdown",
   "metadata": {},
   "source": [
    "StockPlotクラスでインスタンス化します。"
   ]
  },
  {
   "cell_type": "markdown",
   "metadata": {},
   "source": [
    "# ローソク足の描画"
   ]
  },
  {
   "cell_type": "markdown",
   "metadata": {},
   "source": [
    "`fig = sp.StockPlot(sdf)`でインスタンス化されたら時間足を変換します。\n",
    "変換する際は`resample`メソッドを使います。"
   ]
  },
  {
   "cell_type": "code",
   "execution_count": 6,
   "metadata": {
    "ExecuteTime": {
     "end_time": "2017-05-06T20:53:24.047512Z",
     "start_time": "2017-05-06T20:53:23.637160Z"
    },
    "run_control": {
     "frozen": false,
     "read_only": false
    }
   },
   "outputs": [
    {
     "data": {
      "text/html": [
       "<div>\n",
       "<table border=\"1\" class=\"dataframe\">\n",
       "  <thead>\n",
       "    <tr style=\"text-align: right;\">\n",
       "      <th></th>\n",
       "      <th>close</th>\n",
       "      <th>open</th>\n",
       "      <th>high</th>\n",
       "      <th>low</th>\n",
       "    </tr>\n",
       "  </thead>\n",
       "  <tbody>\n",
       "    <tr>\n",
       "      <th>2017-03-20 00:00:00</th>\n",
       "      <td>115.34</td>\n",
       "      <td>115.00</td>\n",
       "      <td>115.98</td>\n",
       "      <td>114.79</td>\n",
       "    </tr>\n",
       "    <tr>\n",
       "      <th>2017-03-20 04:00:00</th>\n",
       "      <td>116.03</td>\n",
       "      <td>115.34</td>\n",
       "      <td>116.48</td>\n",
       "      <td>115.16</td>\n",
       "    </tr>\n",
       "    <tr>\n",
       "      <th>2017-03-20 08:00:00</th>\n",
       "      <td>116.31</td>\n",
       "      <td>116.03</td>\n",
       "      <td>116.75</td>\n",
       "      <td>115.76</td>\n",
       "    </tr>\n",
       "    <tr>\n",
       "      <th>2017-03-20 12:00:00</th>\n",
       "      <td>115.92</td>\n",
       "      <td>116.32</td>\n",
       "      <td>116.87</td>\n",
       "      <td>115.62</td>\n",
       "    </tr>\n",
       "    <tr>\n",
       "      <th>2017-03-20 16:00:00</th>\n",
       "      <td>114.36</td>\n",
       "      <td>115.92</td>\n",
       "      <td>116.12</td>\n",
       "      <td>113.85</td>\n",
       "    </tr>\n",
       "  </tbody>\n",
       "</table>\n",
       "</div>"
      ],
      "text/plain": [
       "                      close    open    high     low\n",
       "2017-03-20 00:00:00  115.34  115.00  115.98  114.79\n",
       "2017-03-20 04:00:00  116.03  115.34  116.48  115.16\n",
       "2017-03-20 08:00:00  116.31  116.03  116.75  115.76\n",
       "2017-03-20 12:00:00  115.92  116.32  116.87  115.62\n",
       "2017-03-20 16:00:00  114.36  115.92  116.12  113.85"
      ]
     },
     "execution_count": 6,
     "metadata": {},
     "output_type": "execute_result"
    }
   ],
   "source": [
    "fx.resample('4H').head()"
   ]
  },
  {
   "cell_type": "code",
   "execution_count": 40,
   "metadata": {
    "ExecuteTime": {
     "end_time": "2017-05-06T01:52:24.189849Z",
     "start_time": "2017-05-06T01:52:23.599807Z"
    },
    "run_control": {
     "frozen": true,
     "read_only": true
    }
   },
   "outputs": [
    {
     "data": {
      "text/plain": [
       "'file://C:\\\\Users\\\\U1and0\\\\Dropbox\\\\Program\\\\python\\\\stockplot\\\\note\\\\stockplot_append_pop\\\\temp-plot.html'"
      ]
     },
     "execution_count": 40,
     "metadata": {},
     "output_type": "execute_result"
    }
   ],
   "source": [
    "fx.plot(start_view='first', end_view='last')\n",
    "fx.show('png', filebasename='png1')"
   ]
  },
  {
   "cell_type": "markdown",
   "metadata": {},
   "source": [
    "![png1](stockplot_append_pop_files/png1.png)"
   ]
  },
  {
   "cell_type": "markdown",
   "metadata": {},
   "source": [
    "時間足の設定が済んだらプロットしてみます。\n",
    "\n",
    "ここまでが[前回記事](http://qiita.com/u1and0/items/e2273bd8e03c670be45a)の復習です。\n",
    "\n",
    "---"
   ]
  },
  {
   "cell_type": "markdown",
   "metadata": {},
   "source": [
    "# 指標の操作"
   ]
  },
  {
   "cell_type": "markdown",
   "metadata": {},
   "source": [
    "## 指標の追加"
   ]
  },
  {
   "cell_type": "markdown",
   "metadata": {},
   "source": [
    "指標をプロットしてみます。\n",
    "最もポピュラーな単純移動平均(Simple Moving Average)をプロットします。\n",
    "追加するには`append`メソッドを使います。"
   ]
  },
  {
   "cell_type": "code",
   "execution_count": 7,
   "metadata": {
    "ExecuteTime": {
     "end_time": "2017-05-06T20:53:24.424846Z",
     "start_time": "2017-05-06T20:53:24.050514Z"
    },
    "run_control": {
     "frozen": false,
     "read_only": false
    },
    "scrolled": true
   },
   "outputs": [
    {
     "data": {
      "text/html": [
       "<div>\n",
       "<table border=\"1\" class=\"dataframe\">\n",
       "  <thead>\n",
       "    <tr style=\"text-align: right;\">\n",
       "      <th></th>\n",
       "      <th>close</th>\n",
       "      <th>open</th>\n",
       "      <th>high</th>\n",
       "      <th>low</th>\n",
       "      <th>close_25_sma</th>\n",
       "    </tr>\n",
       "  </thead>\n",
       "  <tbody>\n",
       "    <tr>\n",
       "      <th>2017-03-20 00:00:00</th>\n",
       "      <td>115.34</td>\n",
       "      <td>115.00</td>\n",
       "      <td>115.98</td>\n",
       "      <td>114.79</td>\n",
       "      <td>115.340000</td>\n",
       "    </tr>\n",
       "    <tr>\n",
       "      <th>2017-03-20 04:00:00</th>\n",
       "      <td>116.03</td>\n",
       "      <td>115.34</td>\n",
       "      <td>116.48</td>\n",
       "      <td>115.16</td>\n",
       "      <td>115.685000</td>\n",
       "    </tr>\n",
       "    <tr>\n",
       "      <th>2017-03-20 08:00:00</th>\n",
       "      <td>116.31</td>\n",
       "      <td>116.03</td>\n",
       "      <td>116.75</td>\n",
       "      <td>115.76</td>\n",
       "      <td>115.893333</td>\n",
       "    </tr>\n",
       "    <tr>\n",
       "      <th>2017-03-20 12:00:00</th>\n",
       "      <td>115.92</td>\n",
       "      <td>116.32</td>\n",
       "      <td>116.87</td>\n",
       "      <td>115.62</td>\n",
       "      <td>115.900000</td>\n",
       "    </tr>\n",
       "    <tr>\n",
       "      <th>2017-03-20 16:00:00</th>\n",
       "      <td>114.36</td>\n",
       "      <td>115.92</td>\n",
       "      <td>116.12</td>\n",
       "      <td>113.85</td>\n",
       "      <td>115.592000</td>\n",
       "    </tr>\n",
       "  </tbody>\n",
       "</table>\n",
       "</div>"
      ],
      "text/plain": [
       "                      close    open    high     low  close_25_sma\n",
       "2017-03-20 00:00:00  115.34  115.00  115.98  114.79    115.340000\n",
       "2017-03-20 04:00:00  116.03  115.34  116.48  115.16    115.685000\n",
       "2017-03-20 08:00:00  116.31  116.03  116.75  115.76    115.893333\n",
       "2017-03-20 12:00:00  115.92  116.32  116.87  115.62    115.900000\n",
       "2017-03-20 16:00:00  114.36  115.92  116.12  113.85    115.592000"
      ]
     },
     "execution_count": 7,
     "metadata": {},
     "output_type": "execute_result"
    }
   ],
   "source": [
    "fx.append('close_25_sma')\n",
    "fx.stock_dataframe.head()"
   ]
  },
  {
   "cell_type": "code",
   "execution_count": 8,
   "metadata": {
    "ExecuteTime": {
     "end_time": "2017-05-06T20:53:25.154041Z",
     "start_time": "2017-05-06T20:53:24.427848Z"
    },
    "run_control": {
     "frozen": true,
     "read_only": true
    }
   },
   "outputs": [
    {
     "data": {
      "text/plain": [
       "'file://C:\\\\Users\\\\U1and0\\\\Dropbox\\\\Program\\\\python\\\\stockplot\\\\note\\\\stockplot_append_pop\\\\temp-plot.html'"
      ]
     },
     "execution_count": 8,
     "metadata": {},
     "output_type": "execute_result"
    }
   ],
   "source": [
    "fx.plot(start_view='first', end_view='last')\n",
    "fx.show('png', filebasename='png2')"
   ]
  },
  {
   "cell_type": "markdown",
   "metadata": {},
   "source": [
    "![png2](./stockplot_append_pop_files/png2.png)"
   ]
  },
  {
   "cell_type": "markdown",
   "metadata": {},
   "source": [
    "close_25_sma(25本足単純移動平均線)が追加されました。\n",
    "なお、`append`メソッド単体をJupyter NotebookやIpython上で実行するとclose_25_smaの値が戻り値として表示されます。"
   ]
  },
  {
   "cell_type": "markdown",
   "metadata": {},
   "source": [
    "追加された指標は時間足を変えても、その時間足に合わせて値を変更してくれます。"
   ]
  },
  {
   "cell_type": "code",
   "execution_count": 9,
   "metadata": {
    "ExecuteTime": {
     "end_time": "2017-05-06T20:55:50.324568Z",
     "start_time": "2017-05-06T20:55:49.413804Z"
    },
    "run_control": {
     "frozen": true,
     "read_only": true
    }
   },
   "outputs": [
    {
     "data": {
      "text/plain": [
       "'file://C:\\\\Users\\\\U1and0\\\\Dropbox\\\\Program\\\\python\\\\stockplot\\\\note\\\\stockplot_append_pop\\\\temp-plot.html'"
      ]
     },
     "execution_count": 9,
     "metadata": {},
     "output_type": "execute_result"
    }
   ],
   "source": [
    "fx.resample('15T')\n",
    "fx.plot(start_view='first', end_view='last')\n",
    "fx.show('png', filebasename='png3')"
   ]
  },
  {
   "cell_type": "markdown",
   "metadata": {
    "ExecuteTime": {
     "end_time": "2017-05-06T20:56:39.266974Z",
     "start_time": "2017-05-06T20:56:38.910686Z"
    }
   },
   "source": [
    "![png3](./stockplot_append_pop_files/png3.png)"
   ]
  },
  {
   "cell_type": "markdown",
   "metadata": {},
   "source": [
    "`resample`メソッドで15分足に変えた後、`append`メソッドを使わなくとも`close_25_sma`が追加されたままです。\n",
    "\n",
    "これは`append`メソッドを実行した際ではなく、`plot`メソッドを実行した際にグラフに指標を追加するようにしたためです。\n",
    "\n",
    "`append`メソッドが行うのは`self._indicators`に値を格納するだけです。"
   ]
  },
  {
   "cell_type": "markdown",
   "metadata": {},
   "source": [
    "```python\n",
    "# ========self._indicatorに指標を蓄える==========\n",
    "    def append(self, indicator):\n",
    "        indicator_value = self.stock_dataframe[indicator]\n",
    "        self._indicators[indicator] = indicator_value  # self._indicatorsに辞書形式で\n",
    "        return indicator_value\n",
    "```"
   ]
  },
  {
   "cell_type": "markdown",
   "metadata": {},
   "source": [
    "```python\n",
    "# =======plotメソッド実行時にself._indicatorに蓄えられている指標を_append_graphに渡す==========\n",
    "    def plot(self, (略)):\n",
    "        # (中略)\n",
    "        # ---------Append indicators----------\n",
    "        for indicator in self._indicators.keys():\n",
    "            self._append_graph(indicator, start_plot, end_plot)  # Re-append indicator in graph\n",
    "        # (中略)\n",
    "        return self._fig\n",
    "\n",
    "# =======self._indicatorに蓄えられている指標をself._figのデータ部分に追加する==========\n",
    "    def _append_graph(self, indicator, start, end):\n",
    "        graph_value = self._indicators[indicator].loc[start:end]\n",
    "        plotter = go.Scatter(x=graph_value.index, y=graph_value,\n",
    "                             name=indicator.upper().replace('_', ' '))  # グラフに追加する形式変換\n",
    "        self._fig['data'].append(plotter)\n",
    "```"
   ]
  },
  {
   "cell_type": "markdown",
   "metadata": {},
   "source": [
    "## 指標の削除"
   ]
  },
  {
   "cell_type": "markdown",
   "metadata": {},
   "source": [
    "指標の削除には`pop`メソッドを使用します。"
   ]
  },
  {
   "cell_type": "code",
   "execution_count": 10,
   "metadata": {
    "ExecuteTime": {
     "end_time": "2017-05-06T20:51:18.109720Z",
     "start_time": "2017-05-06T20:51:17.780396Z"
    },
    "run_control": {
     "frozen": false,
     "read_only": false
    }
   },
   "outputs": [
    {
     "data": {
      "text/html": [
       "<div>\n",
       "<table border=\"1\" class=\"dataframe\">\n",
       "  <thead>\n",
       "    <tr style=\"text-align: right;\">\n",
       "      <th></th>\n",
       "      <th>open</th>\n",
       "      <th>high</th>\n",
       "      <th>low</th>\n",
       "      <th>close</th>\n",
       "    </tr>\n",
       "  </thead>\n",
       "  <tbody>\n",
       "    <tr>\n",
       "      <th>2017-03-20 00:00:00</th>\n",
       "      <td>115.00</td>\n",
       "      <td>115.26</td>\n",
       "      <td>114.87</td>\n",
       "      <td>115.11</td>\n",
       "    </tr>\n",
       "    <tr>\n",
       "      <th>2017-03-20 00:15:00</th>\n",
       "      <td>115.11</td>\n",
       "      <td>115.21</td>\n",
       "      <td>114.85</td>\n",
       "      <td>115.01</td>\n",
       "    </tr>\n",
       "    <tr>\n",
       "      <th>2017-03-20 00:30:00</th>\n",
       "      <td>115.01</td>\n",
       "      <td>115.49</td>\n",
       "      <td>114.90</td>\n",
       "      <td>115.47</td>\n",
       "    </tr>\n",
       "    <tr>\n",
       "      <th>2017-03-20 00:45:00</th>\n",
       "      <td>115.47</td>\n",
       "      <td>115.50</td>\n",
       "      <td>115.24</td>\n",
       "      <td>115.26</td>\n",
       "    </tr>\n",
       "    <tr>\n",
       "      <th>2017-03-20 01:00:00</th>\n",
       "      <td>115.25</td>\n",
       "      <td>115.49</td>\n",
       "      <td>115.10</td>\n",
       "      <td>115.27</td>\n",
       "    </tr>\n",
       "  </tbody>\n",
       "</table>\n",
       "</div>"
      ],
      "text/plain": [
       "                       open    high     low   close\n",
       "2017-03-20 00:00:00  115.00  115.26  114.87  115.11\n",
       "2017-03-20 00:15:00  115.11  115.21  114.85  115.01\n",
       "2017-03-20 00:30:00  115.01  115.49  114.90  115.47\n",
       "2017-03-20 00:45:00  115.47  115.50  115.24  115.26\n",
       "2017-03-20 01:00:00  115.25  115.49  115.10  115.27"
      ]
     },
     "execution_count": 10,
     "metadata": {},
     "output_type": "execute_result"
    }
   ],
   "source": [
    "fx.pop('close_25_sma')\n",
    "fx.stock_dataframe.head()"
   ]
  },
  {
   "cell_type": "markdown",
   "metadata": {},
   "source": [
    "close_25_smaが削除されました。"
   ]
  },
  {
   "cell_type": "markdown",
   "metadata": {},
   "source": [
    "単純移動平均以外の指標も描いてみます。"
   ]
  },
  {
   "cell_type": "code",
   "execution_count": 11,
   "metadata": {
    "ExecuteTime": {
     "end_time": "2017-05-06T20:57:18.750179Z",
     "start_time": "2017-05-06T20:57:17.674844Z"
    },
    "run_control": {
     "frozen": true,
     "read_only": true
    }
   },
   "outputs": [
    {
     "data": {
      "text/plain": [
       "'file://C:\\\\Users\\\\U1and0\\\\Dropbox\\\\Program\\\\python\\\\stockplot\\\\note\\\\stockplot_append_pop\\\\temp-plot.html'"
      ]
     },
     "execution_count": 11,
     "metadata": {},
     "output_type": "execute_result"
    }
   ],
   "source": [
    "fx.append('close_20_ema')  # 終値の指数移動平均線\n",
    "fx.append('boll')  # ボリンジャーバンド真ん中(close_20_smaと同じ)\n",
    "fx.append('boll_ub')  # ボリンジャーバンド上\n",
    "fx.append('boll_lb')  # ボリンジャーバンド下\n",
    "fx.append('high_0~20_max')  # 20足前の移動最高値\n",
    "fx.append('low_0~20_min')  # 20足前の移動最安値\n",
    "fx.plot(start_view='first', end_view='last')\n",
    "fx.show('png', filebasename='png4')"
   ]
  },
  {
   "cell_type": "markdown",
   "metadata": {},
   "source": [
    "![png4](./stockplot_append_pop_files/png4.png)"
   ]
  },
  {
   "cell_type": "markdown",
   "metadata": {},
   "source": [
    " * 20本足ボリンジャーバンド\n",
    " * 20本足移動最高値\n",
    " * 20本足最安値\n",
    " \n",
    " がプロットされました。"
   ]
  },
  {
   "cell_type": "markdown",
   "metadata": {},
   "source": [
    "追加した指標名がわからなくなったらインスタンス変数からアクセスできます。"
   ]
  },
  {
   "cell_type": "code",
   "execution_count": 12,
   "metadata": {
    "ExecuteTime": {
     "end_time": "2017-05-06T20:51:19.288704Z",
     "start_time": "2017-05-06T20:51:18.989463Z"
    },
    "run_control": {
     "frozen": false,
     "read_only": false
    }
   },
   "outputs": [
    {
     "data": {
      "text/plain": [
       "dict_keys(['low_0~20_min', 'boll', 'high_0~20_max', 'boll_ub', 'close_20_ema', 'boll_lb'])"
      ]
     },
     "execution_count": 12,
     "metadata": {},
     "output_type": "execute_result"
    }
   ],
   "source": [
    "fx._indicators.keys()"
   ]
  },
  {
   "cell_type": "markdown",
   "metadata": {},
   "source": [
    "`append`メソッドを使ったときの引数がkey、戻り値がvalueとして、`_indicators`にディクショナリ形式で保存されます。\n",
    "そのため、`keys`メソッドで追加した指標名を呼び出すことができます。\n",
    "> `fx.stock_dataframe.columns`でも表示できますが、推奨できません。\n",
    "> `stockstats.StockDataFrame`は指標の生成時に補助的なカラムも発生させます。\n",
    "> そのため、補助指標(グラフにプロットされていないデータ)も混在していて、どれがプロットされているのか見分けづらいためです。"
   ]
  },
  {
   "cell_type": "code",
   "execution_count": 13,
   "metadata": {
    "ExecuteTime": {
     "end_time": "2017-05-06T20:51:19.567442Z",
     "start_time": "2017-05-06T20:51:19.291704Z"
    }
   },
   "outputs": [
    {
     "data": {
      "text/plain": [
       "Index(['open', 'high', 'low', 'close', 'close_20_ema', 'close_20_sma',\n",
       "       'close_20_mstd', 'boll', 'boll_ub', 'boll_lb', 'high_0_s', 'high_1_s',\n",
       "       'high_2_s', 'high_3_s', 'high_4_s', 'high_5_s', 'high_6_s', 'high_7_s',\n",
       "       'high_8_s', 'high_9_s', 'high_10_s', 'high_11_s', 'high_12_s',\n",
       "       'high_13_s', 'high_14_s', 'high_15_s', 'high_16_s', 'high_17_s',\n",
       "       'high_18_s', 'high_19_s', 'high_20_s', 'high_0~20_max', 'low_0_s',\n",
       "       'low_1_s', 'low_2_s', 'low_3_s', 'low_4_s', 'low_5_s', 'low_6_s',\n",
       "       'low_7_s', 'low_8_s', 'low_9_s', 'low_10_s', 'low_11_s', 'low_12_s',\n",
       "       'low_13_s', 'low_14_s', 'low_15_s', 'low_16_s', 'low_17_s', 'low_18_s',\n",
       "       'low_19_s', 'low_20_s', 'low_0~20_min'],\n",
       "      dtype='object')"
      ]
     },
     "execution_count": 13,
     "metadata": {},
     "output_type": "execute_result"
    }
   ],
   "source": [
    "fx.stock_dataframe.columns"
   ]
  },
  {
   "cell_type": "markdown",
   "metadata": {},
   "source": [
    "`fx.stock_dataframe.columns`による指標の表示は、追加していない指標名も表示されます。"
   ]
  },
  {
   "cell_type": "markdown",
   "metadata": {},
   "source": [
    "ごちゃごちゃしてきたので`high_20_max`, `low_20_min`を削除します。"
   ]
  },
  {
   "cell_type": "code",
   "execution_count": 12,
   "metadata": {
    "ExecuteTime": {
     "end_time": "2017-05-06T20:58:26.783531Z",
     "start_time": "2017-05-06T20:58:25.782974Z"
    },
    "run_control": {
     "frozen": true,
     "read_only": true
    }
   },
   "outputs": [
    {
     "data": {
      "text/plain": [
       "'file://C:\\\\Users\\\\U1and0\\\\Dropbox\\\\Program\\\\python\\\\stockplot\\\\note\\\\stockplot_append_pop\\\\temp-plot.html'"
      ]
     },
     "execution_count": 12,
     "metadata": {},
     "output_type": "execute_result"
    }
   ],
   "source": [
    "fx.pop('high_0~20_max')\n",
    "fx.pop('low_0~20_min')\n",
    "fx.plot(start_view='first', end_view='last')\n",
    "fx.show('png', filebasename='png5')"
   ]
  },
  {
   "cell_type": "markdown",
   "metadata": {},
   "source": [
    "![png5](./stockplot_append_pop_files/png5.png)"
   ]
  },
  {
   "cell_type": "markdown",
   "metadata": {},
   "source": [
    "`high_20_max`, `low_20_min`だけがグラフから削除されました。"
   ]
  },
  {
   "cell_type": "markdown",
   "metadata": {},
   "source": [
    "`pop`メソッドは以下の手順で進みます。\n",
    "\n",
    "1. `self._indicator`の中からindicatorで指定された値を削除します。\n",
    "2. `self.stock_dataframe`から`open, high, low, close`だけ抜き出します。\n",
    "3. `self._indicators`に残っている指標を再度プロットします。"
   ]
  },
  {
   "cell_type": "markdown",
   "metadata": {},
   "source": [
    "```python\n",
    "    def pop(self, indicator):\n",
    "        popper = self._indicators.pop(indicator)  # (1)\n",
    "        self.stock_dataframe = reset_dataframe(self.stock_dataframe)  # (2)\n",
    "        for reindicator in self._indicators.keys():\n",
    "            self.stock_dataframe.get(reindicator)  # (3)\n",
    "        return popper\n",
    "```"
   ]
  },
  {
   "cell_type": "markdown",
   "metadata": {},
   "source": [
    "`self.stock_dataframe`に入っている指標は、追加した指標によっては補助的に作られたカラムなどが混在します。\n",
    "そのため、「ある指標によって作られたカラムだけ」を特定し、`self.stock_dataframe`から削除するのが困難です。\n",
    "よって、一度`self.stock_dataframe`を`resample`がかかった状態まで戻し(2)、再度指標を追加しています(3)。\n",
    "\n",
    "(3)は`append`メソッドとほとんど同じことですが、`self._indicators`に追加しません。\n",
    "(1)の段階で`self._indicators`からは余計な指標を取り除いていないため、`self._indicators`に再度追加する必要がありません。"
   ]
  },
  {
   "cell_type": "markdown",
   "metadata": {},
   "source": [
    "## 指標の初期化"
   ]
  },
  {
   "cell_type": "markdown",
   "metadata": {},
   "source": [
    "追加した指標をすべて消すときは`clear`メソッドを使います。"
   ]
  },
  {
   "cell_type": "code",
   "execution_count": 14,
   "metadata": {
    "ExecuteTime": {
     "end_time": "2017-05-06T20:59:49.997881Z",
     "start_time": "2017-05-06T20:59:49.719790Z"
    },
    "run_control": {
     "frozen": false,
     "read_only": false
    },
    "scrolled": true
   },
   "outputs": [
    {
     "data": {
      "text/html": [
       "<div>\n",
       "<table border=\"1\" class=\"dataframe\">\n",
       "  <thead>\n",
       "    <tr style=\"text-align: right;\">\n",
       "      <th></th>\n",
       "      <th>open</th>\n",
       "      <th>high</th>\n",
       "      <th>low</th>\n",
       "      <th>close</th>\n",
       "    </tr>\n",
       "  </thead>\n",
       "  <tbody>\n",
       "    <tr>\n",
       "      <th>2017-03-20 00:00:00</th>\n",
       "      <td>115.00</td>\n",
       "      <td>115.26</td>\n",
       "      <td>114.87</td>\n",
       "      <td>115.11</td>\n",
       "    </tr>\n",
       "    <tr>\n",
       "      <th>2017-03-20 00:15:00</th>\n",
       "      <td>115.11</td>\n",
       "      <td>115.21</td>\n",
       "      <td>114.85</td>\n",
       "      <td>115.01</td>\n",
       "    </tr>\n",
       "    <tr>\n",
       "      <th>2017-03-20 00:30:00</th>\n",
       "      <td>115.01</td>\n",
       "      <td>115.49</td>\n",
       "      <td>114.90</td>\n",
       "      <td>115.47</td>\n",
       "    </tr>\n",
       "    <tr>\n",
       "      <th>2017-03-20 00:45:00</th>\n",
       "      <td>115.47</td>\n",
       "      <td>115.50</td>\n",
       "      <td>115.24</td>\n",
       "      <td>115.26</td>\n",
       "    </tr>\n",
       "    <tr>\n",
       "      <th>2017-03-20 01:00:00</th>\n",
       "      <td>115.25</td>\n",
       "      <td>115.49</td>\n",
       "      <td>115.10</td>\n",
       "      <td>115.27</td>\n",
       "    </tr>\n",
       "  </tbody>\n",
       "</table>\n",
       "</div>"
      ],
      "text/plain": [
       "                       open    high     low   close\n",
       "2017-03-20 00:00:00  115.00  115.26  114.87  115.11\n",
       "2017-03-20 00:15:00  115.11  115.21  114.85  115.01\n",
       "2017-03-20 00:30:00  115.01  115.49  114.90  115.47\n",
       "2017-03-20 00:45:00  115.47  115.50  115.24  115.26\n",
       "2017-03-20 01:00:00  115.25  115.49  115.10  115.27"
      ]
     },
     "execution_count": 14,
     "metadata": {},
     "output_type": "execute_result"
    }
   ],
   "source": [
    "fx.clear()\n",
    "fx.stock_dataframe.head()"
   ]
  },
  {
   "cell_type": "code",
   "execution_count": 15,
   "metadata": {
    "ExecuteTime": {
     "end_time": "2017-05-06T20:59:51.679040Z",
     "start_time": "2017-05-06T20:59:51.038664Z"
    },
    "run_control": {
     "frozen": true,
     "read_only": true
    }
   },
   "outputs": [
    {
     "data": {
      "text/plain": [
       "'file://C:\\\\Users\\\\U1and0\\\\Dropbox\\\\Program\\\\python\\\\stockplot\\\\note\\\\stockplot_append_pop\\\\temp-plot.html'"
      ]
     },
     "execution_count": 15,
     "metadata": {},
     "output_type": "execute_result"
    }
   ],
   "source": [
    "fx.plot(start_view='first', end_view='last')\n",
    "fx.show('png', filebasename='png6')"
   ]
  },
  {
   "cell_type": "markdown",
   "metadata": {},
   "source": [
    "![png6](./stockplot_append_pop_files/png6.png)"
   ]
  },
  {
   "cell_type": "markdown",
   "metadata": {},
   "source": [
    "* データフレーム(`self.stock_dataframe`)を初期化します。\n",
    "* グラフ(`self._fig`)を初期化します。\n",
    "* 指標(`self._indicators`)を初期化します。\n",
    "* **時間足は初期化しません。**\n",
    "> hardオプションをTrueにする(`fx.clear(hard=True)`として実行する)ことで時間足も初期化できます(ハードリセット)。\n",
    "> `self.stock_dataframe`は`None`に戻ります。\n",
    "> ハードリセットをかけた後に再度プロットしたいときは`resample`メソッドから実行してください。"
   ]
  },
  {
   "cell_type": "markdown",
   "metadata": {},
   "source": [
    "```python\n",
    "    def clear(self, hard=False):\n",
    "        self._fig = None  # <-- plotly.graph_objs\n",
    "        self._indicators = {}\n",
    "        if hard:\n",
    "            self.stock_dataframe = None\n",
    "            self.freq = None  # 足の時間幅\n",
    "        else:\n",
    "            self.stock_dataframe = reset_dataframe(self.stock_dataframe)\n",
    "```"
   ]
  },
  {
   "cell_type": "markdown",
   "metadata": {},
   "source": [
    "`clear`メソッドはほとんど`__init__`メソッドと同じですが、\n",
    "\n",
    "* データとしての引数が必要ないこと\n",
    "* デフォルトでは時間足を変更しないこと\n",
    "\n",
    "> すなわち再度プロットするときに`resample`メソッドを使う必要がないこと\n",
    "\n",
    "の点が`__init__`と異なります。"
   ]
  },
  {
   "cell_type": "markdown",
   "metadata": {},
   "source": [
    "# まとめと補足"
   ]
  },
  {
   "cell_type": "markdown",
   "metadata": {},
   "source": [
    "## フローチャート\n",
    "各メソッドの使用順序は以下に示すフローチャートの通りです。\n",
    "![png8](./stockplot_append_pop_files/png8.png)\n",
    "\n",
    "左側が追加と表示、右側が削除とリセットを表しています。"
   ]
  },
  {
   "cell_type": "markdown",
   "metadata": {
    "collapsed": true,
    "run_control": {
     "frozen": false,
     "read_only": false
    }
   },
   "source": [
    "## ボリンジャーバンドについて"
   ]
  },
  {
   "cell_type": "markdown",
   "metadata": {},
   "source": [
    "`stockstats`ではボリンジャーバンドで使う移動区間と$\\sigma$がクラス変数として定義されています。\n",
    "\n",
    "```\n",
    "BOLL_PERIOD = 20\n",
    "BOLL_STD_TIMES = 2\n",
    "```\n",
    "\n",
    "ここで移動区間を5, $\\sigma$を1に変更してみます。"
   ]
  },
  {
   "cell_type": "code",
   "execution_count": 16,
   "metadata": {
    "ExecuteTime": {
     "end_time": "2017-05-06T21:02:15.062863Z",
     "start_time": "2017-05-06T21:02:14.164530Z"
    },
    "run_control": {
     "frozen": false,
     "read_only": false
    }
   },
   "outputs": [
    {
     "data": {
      "text/plain": [
       "'file://C:\\\\Users\\\\U1and0\\\\Dropbox\\\\Program\\\\python\\\\stockplot\\\\note\\\\stockplot_append_pop\\\\temp-plot.html'"
      ]
     },
     "execution_count": 16,
     "metadata": {},
     "output_type": "execute_result"
    }
   ],
   "source": [
    "sp.ss.StockDataFrame.BOLL_PERIOD = 5  # ボリンジャーバンド移動区間の設定\n",
    "sp.ss.StockDataFrame.BOLL_STD_TIMES = 1  # ボリンジャーバンドσの設定\n",
    "boll = sp.StockPlot(df)\n",
    "boll.resample('4H')\n",
    "boll.append('boll')  # ボリンジャーバンド真ん中(close_5_smaと同じ)\n",
    "boll.append('boll_ub')  # ボリンジャーバンド上\n",
    "boll.append('boll_lb')  # ボリンジャーバンド下\n",
    "boll.plot(start_view='first', end_view='last')\n",
    "boll.show('png', filebasename='png7')"
   ]
  },
  {
   "cell_type": "markdown",
   "metadata": {},
   "source": [
    "![png7](./stockplot_append_pop_files/png7.png)"
   ]
  },
  {
   "cell_type": "markdown",
   "metadata": {},
   "source": [
    "$\\sigma_1$と$\\sigma_2$は同時に描けないのが残念です。\n",
    "\n",
    "`BOLL_PERIOD`, `BOLL_STD_TIMES`は`stockstats`のクラス変数なので、\n",
    "`stockplot.stockstats.BOLL_STD_TIMES = 2`のようにして再定義する必要があります。\n",
    "\n",
    "しかし、`stockstats`が指標を追加するとき、`_get`メソッドを使うので、一度追加した指標が上書きされてしまいます。\n",
    "\n",
    "グラフに描くだけであれば何とかすればできそうですが、今後の課題とします。"
   ]
  },
  {
   "cell_type": "markdown",
   "metadata": {},
   "source": [
    "## サブチャートについて"
   ]
  },
  {
   "cell_type": "markdown",
   "metadata": {},
   "source": [
    "[`stockstats`](https://github.com/jealous/stockstats)は多くの指標の出力に対応していますが、サブチャートを必要とする指標が多くあります。(MACD, RSI, ADX...)\n",
    "今回のリリースではサブチャートに手を付けていません。\n",
    "[Cufflinks](https://github.com/santosjorge/cufflinks)を使ってみたらサブプロットととかも簡単にいきそうな気がします。"
   ]
  },
  {
   "cell_type": "markdown",
   "metadata": {},
   "source": [
    "## トップのgifファイルについて"
   ]
  },
  {
   "cell_type": "markdown",
   "metadata": {},
   "source": [
    "最初のgif画像はチャートをipython上からインタラクティブにhtmlとして出力している様子です。\n",
    "\n",
    "* モジュールのインポートから日足に変更するところまでを実行する`./bin/stockplot_quickset.py`を実行します。\n",
    "* 'close_25_sma'を追加します。\n",
    "* 時間足を15分足に変えます。\n",
    "* 'close_75_sma'を追加します。"
   ]
  },
  {
   "cell_type": "markdown",
   "metadata": {},
   "source": [
    "```python\n",
    "# ----------General Module----------\n",
    "import numpy as np\n",
    "import pandas as pd\n",
    "# ----------User Module----------\n",
    "from randomwalk import randomwalk\n",
    "import stockplot as sp\n",
    "# ----------Plotly Module----------\n",
    "import plotly.offline as pyo\n",
    "pyo.init_notebook_mode(connected=True)\n",
    "\n",
    "# Make sample data\n",
    "np.random.seed(1)\n",
    "# 90日分の1秒tickを1分足に直す\n",
    "df = randomwalk(60 * 60 * 24 * 90, freq='S', tick=0.01, start=pd.datetime(2017, 3, 20)).resample('T').ohlc() + 115\n",
    "\n",
    "# Convert StockDataFrame as StockPlot\n",
    "fx = sp.StockPlot(df)\n",
    "\n",
    "# Resample as Day OHLC\n",
    "fx.resample('H')\n",
    "```"
   ]
  },
  {
   "cell_type": "markdown",
   "metadata": {},
   "source": [
    "ソースコードはgithubに上げました。\n",
    "[github - u1and0/stockplot](https://github.com/u1and0/stockplot)"
   ]
  }
 ],
 "metadata": {
  "anaconda-cloud": {},
  "hide_input": false,
  "kernelspec": {
   "display_name": "Python [default]",
   "language": "python",
   "name": "python3"
  },
  "language_info": {
   "codemirror_mode": {
    "name": "ipython",
    "version": 3
   },
   "file_extension": ".py",
   "mimetype": "text/x-python",
   "name": "python",
   "nbconvert_exporter": "python",
   "pygments_lexer": "ipython3",
   "version": "3.5.3"
  },
  "toc": {
   "nav_menu": {
    "height": "119px",
    "width": "251px"
   },
   "navigate_menu": true,
   "number_sections": true,
   "sideBar": true,
   "threshold": 4,
   "toc_cell": false,
   "toc_section_display": "block",
   "toc_window_display": true
  }
 },
 "nbformat": 4,
 "nbformat_minor": 2
}
