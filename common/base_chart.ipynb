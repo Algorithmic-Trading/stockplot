{
 "cells": [
  {
   "cell_type": "code",
   "execution_count": 1,
   "metadata": {
    "ExecuteTime": {
     "end_time": "2017-03-20T16:48:38.337692Z",
     "start_time": "2017-03-20T12:48:35.797941-04:00"
    },
    "collapsed": false,
    "deletable": true,
    "editable": true,
    "run_control": {
     "frozen": false,
     "read_only": false
    }
   },
   "outputs": [
    {
     "data": {
      "text/html": [
       "<script>requirejs.config({paths: { 'plotly': ['https://cdn.plot.ly/plotly-latest.min']},});if(!window.Plotly) {{require(['plotly'],function(plotly) {window.Plotly=plotly;});}}</script>"
      ],
      "text/plain": [
       "<IPython.core.display.HTML object>"
      ]
     },
     "metadata": {},
     "output_type": "display_data"
    },
    {
     "name": "stdout",
     "output_type": "stream",
     "text": [
      "              open    high     low   close     sma5\n",
      "2017-03-20  115.00  115.38  114.76  115.36      NaN\n",
      "2017-03-21  115.37  115.49  115.03  115.15      NaN\n",
      "2017-03-22  115.14  115.69  115.07  115.65      NaN\n",
      "2017-03-23  115.66  116.22  115.64  116.21      NaN\n",
      "2017-03-24  116.20  116.53  115.90  116.31  115.736\n"
     ]
    },
    {
     "ename": "AttributeError",
     "evalue": "'DataFrame' object has no attribute 'value'",
     "output_type": "error",
     "traceback": [
      "\u001b[1;31m---------------------------------------------------------------------------\u001b[0m",
      "\u001b[1;31mAttributeError\u001b[0m                            Traceback (most recent call last)",
      "\u001b[1;32m<ipython-input-1-4616dc8a5cd3>\u001b[0m in \u001b[0;36m<module>\u001b[1;34m()\u001b[0m\n\u001b[0;32m     53\u001b[0m     \u001b[0mk\u001b[0m \u001b[1;33m=\u001b[0m \u001b[0mx\u001b[0m\u001b[1;33m.\u001b[0m\u001b[0msma\u001b[0m\u001b[1;33m(\u001b[0m\u001b[1;36m5\u001b[0m\u001b[1;33m)\u001b[0m\u001b[1;33m\u001b[0m\u001b[0m\n\u001b[0;32m     54\u001b[0m     \u001b[0mprint\u001b[0m\u001b[1;33m(\u001b[0m\u001b[0mk\u001b[0m\u001b[1;33m.\u001b[0m\u001b[0mhead\u001b[0m\u001b[1;33m(\u001b[0m\u001b[1;36m5\u001b[0m\u001b[1;33m)\u001b[0m\u001b[1;33m)\u001b[0m\u001b[1;33m\u001b[0m\u001b[0m\n\u001b[1;32m---> 55\u001b[1;33m     \u001b[0mx\u001b[0m\u001b[1;33m.\u001b[0m\u001b[0mplot\u001b[0m\u001b[1;33m(\u001b[0m\u001b[1;33m)\u001b[0m\u001b[1;33m\u001b[0m\u001b[0m\n\u001b[0m",
      "\u001b[1;32m<ipython-input-1-4616dc8a5cd3>\u001b[0m in \u001b[0;36mplot\u001b[1;34m(self, filename)\u001b[0m\n\u001b[0;32m     42\u001b[0m \u001b[1;33m\u001b[0m\u001b[0m\n\u001b[0;32m     43\u001b[0m     \u001b[1;32mdef\u001b[0m \u001b[0mplot\u001b[0m\u001b[1;33m(\u001b[0m\u001b[0mself\u001b[0m\u001b[1;33m,\u001b[0m \u001b[0mfilename\u001b[0m\u001b[1;33m=\u001b[0m\u001b[1;34m'candlestick_and_trace.html'\u001b[0m\u001b[1;33m)\u001b[0m\u001b[1;33m:\u001b[0m\u001b[1;33m\u001b[0m\u001b[0m\n\u001b[1;32m---> 44\u001b[1;33m         \u001b[0mself\u001b[0m\u001b[1;33m.\u001b[0m\u001b[0mindicator\u001b[0m\u001b[1;33m(\u001b[0m\u001b[1;33m)\u001b[0m\u001b[1;33m\u001b[0m\u001b[0m\n\u001b[0m\u001b[0;32m     45\u001b[0m         \u001b[0mself\u001b[0m\u001b[1;33m.\u001b[0m\u001b[0mfig\u001b[0m\u001b[1;33m[\u001b[0m\u001b[1;34m'layout'\u001b[0m\u001b[1;33m]\u001b[0m\u001b[1;33m.\u001b[0m\u001b[0mupdate\u001b[0m\u001b[1;33m(\u001b[0m\u001b[0mxaxis\u001b[0m\u001b[1;33m=\u001b[0m\u001b[1;33m{\u001b[0m\u001b[1;34m'showgrid'\u001b[0m\u001b[1;33m:\u001b[0m \u001b[1;32mTrue\u001b[0m\u001b[1;33m}\u001b[0m\u001b[1;33m)\u001b[0m\u001b[1;33m\u001b[0m\u001b[0m\n\u001b[0;32m     46\u001b[0m         \u001b[0mpyo\u001b[0m\u001b[1;33m.\u001b[0m\u001b[0miplot\u001b[0m\u001b[1;33m(\u001b[0m\u001b[0mself\u001b[0m\u001b[1;33m.\u001b[0m\u001b[0mfig\u001b[0m\u001b[1;33m,\u001b[0m \u001b[0mfilename\u001b[0m\u001b[1;33m=\u001b[0m\u001b[0mfilename\u001b[0m\u001b[1;33m,\u001b[0m \u001b[0mvalidate\u001b[0m\u001b[1;33m=\u001b[0m\u001b[1;32mFalse\u001b[0m\u001b[1;33m)\u001b[0m\u001b[1;33m\u001b[0m\u001b[0m\n",
      "\u001b[1;32m<ipython-input-1-4616dc8a5cd3>\u001b[0m in \u001b[0;36mindicator\u001b[1;34m(self)\u001b[0m\n\u001b[0;32m     38\u001b[0m                                      self.df.low, self.df.close, dates=self.df.index)\n\u001b[0;32m     39\u001b[0m     \u001b[1;32mdef\u001b[0m \u001b[0mindicator\u001b[0m\u001b[1;33m(\u001b[0m\u001b[0mself\u001b[0m\u001b[1;33m)\u001b[0m\u001b[1;33m:\u001b[0m\u001b[1;33m\u001b[0m\u001b[0m\n\u001b[1;32m---> 40\u001b[1;33m         \u001b[0madd_line\u001b[0m \u001b[1;33m=\u001b[0m \u001b[1;33m[\u001b[0m\u001b[0mpyg\u001b[0m\u001b[1;33m.\u001b[0m\u001b[0mScatter\u001b[0m\u001b[1;33m(\u001b[0m\u001b[0mx\u001b[0m\u001b[1;33m=\u001b[0m\u001b[0mself\u001b[0m\u001b[1;33m.\u001b[0m\u001b[0mdf\u001b[0m\u001b[1;33m.\u001b[0m\u001b[0mindex\u001b[0m\u001b[1;33m,\u001b[0m \u001b[0my\u001b[0m\u001b[1;33m=\u001b[0m\u001b[0mself\u001b[0m\u001b[1;33m.\u001b[0m\u001b[0mdf\u001b[0m\u001b[1;33m.\u001b[0m\u001b[0mix\u001b[0m\u001b[1;33m[\u001b[0m\u001b[1;33m:\u001b[0m\u001b[1;33m,\u001b[0m \u001b[1;36m4\u001b[0m\u001b[1;33m:\u001b[0m\u001b[1;33m]\u001b[0m\u001b[1;33m.\u001b[0m\u001b[0mvalue\u001b[0m\u001b[1;33m,\u001b[0m \u001b[0mname\u001b[0m\u001b[1;33m=\u001b[0m\u001b[1;34m'SMA'\u001b[0m\u001b[1;33m,\u001b[0m \u001b[0mline\u001b[0m\u001b[1;33m=\u001b[0m\u001b[0mpyg\u001b[0m\u001b[1;33m.\u001b[0m\u001b[0mLine\u001b[0m\u001b[1;33m(\u001b[0m\u001b[0mcolor\u001b[0m\u001b[1;33m=\u001b[0m\u001b[1;34m'r'\u001b[0m\u001b[1;33m)\u001b[0m\u001b[1;33m)\u001b[0m\u001b[1;33m]\u001b[0m\u001b[1;33m\u001b[0m\u001b[0m\n\u001b[0m\u001b[0;32m     41\u001b[0m         \u001b[0mself\u001b[0m\u001b[1;33m.\u001b[0m\u001b[0mfig\u001b[0m\u001b[1;33m[\u001b[0m\u001b[1;34m'data'\u001b[0m\u001b[1;33m]\u001b[0m\u001b[1;33m.\u001b[0m\u001b[0mextend\u001b[0m\u001b[1;33m(\u001b[0m\u001b[0madd_line\u001b[0m\u001b[1;33m)\u001b[0m\u001b[1;33m\u001b[0m\u001b[0m\n\u001b[0;32m     42\u001b[0m \u001b[1;33m\u001b[0m\u001b[0m\n",
      "\u001b[1;32mC:\\Anaconda3\\lib\\site-packages\\pandas\\core\\generic.py\u001b[0m in \u001b[0;36m__getattr__\u001b[1;34m(self, name)\u001b[0m\n\u001b[0;32m   2742\u001b[0m             \u001b[1;32mif\u001b[0m \u001b[0mname\u001b[0m \u001b[1;32min\u001b[0m \u001b[0mself\u001b[0m\u001b[1;33m.\u001b[0m\u001b[0m_info_axis\u001b[0m\u001b[1;33m:\u001b[0m\u001b[1;33m\u001b[0m\u001b[0m\n\u001b[0;32m   2743\u001b[0m                 \u001b[1;32mreturn\u001b[0m \u001b[0mself\u001b[0m\u001b[1;33m[\u001b[0m\u001b[0mname\u001b[0m\u001b[1;33m]\u001b[0m\u001b[1;33m\u001b[0m\u001b[0m\n\u001b[1;32m-> 2744\u001b[1;33m             \u001b[1;32mreturn\u001b[0m \u001b[0mobject\u001b[0m\u001b[1;33m.\u001b[0m\u001b[0m__getattribute__\u001b[0m\u001b[1;33m(\u001b[0m\u001b[0mself\u001b[0m\u001b[1;33m,\u001b[0m \u001b[0mname\u001b[0m\u001b[1;33m)\u001b[0m\u001b[1;33m\u001b[0m\u001b[0m\n\u001b[0m\u001b[0;32m   2745\u001b[0m \u001b[1;33m\u001b[0m\u001b[0m\n\u001b[0;32m   2746\u001b[0m     \u001b[1;32mdef\u001b[0m \u001b[0m__setattr__\u001b[0m\u001b[1;33m(\u001b[0m\u001b[0mself\u001b[0m\u001b[1;33m,\u001b[0m \u001b[0mname\u001b[0m\u001b[1;33m,\u001b[0m \u001b[0mvalue\u001b[0m\u001b[1;33m)\u001b[0m\u001b[1;33m:\u001b[0m\u001b[1;33m\u001b[0m\u001b[0m\n",
      "\u001b[1;31mAttributeError\u001b[0m: 'DataFrame' object has no attribute 'value'"
     ]
    }
   ],
   "source": [
    "import numpy as np\n",
    "import pandas as pd\n",
    "from datetime import datetime\n",
    "from randomwalk import *\n",
    "from plotly.tools import FigureFactory as FF\n",
    "import plotly.offline as pyo\n",
    "import plotly.graph_objs as pyg\n",
    "pyo.init_notebook_mode(connected=True)\n",
    "\n",
    "\n",
    "class base:\n",
    "    \"\"\"candlec chartとその指標を描くクラス\n",
    "    入力: ohlcデータフレーム\n",
    "    出力: plrtolyファイル(htmlファイル)\"\"\"\n",
    "\n",
    "    def __init__(self, df):\n",
    "        self.df = df\n",
    "        self.add_line = []\n",
    "        # self.dt = dt\n",
    "        self.fig = self.fig()\n",
    "\n",
    "    # ----------DATA MAKE----------\n",
    "\n",
    "    # resampleは中でやったほうがいいのか外でやったほうがいいのか\n",
    "    # def resamp(self, ashi):\n",
    "    #     return df.ix[:, :4].resample(ashi).agg({'open':'first',\n",
    "    #                                          'high':'max', 'low':'min', 'close':'last'}).dropna()\n",
    "\n",
    "    def sma(self, window, columns='close'):\n",
    "        # adding = pyg.Scatter(x=self.df.index, y=ro, name='SMA5', line=pyg.Line(color='r'))\n",
    "        # self.add_line.extend(list(adding))\n",
    "        self.df['sma%d'% window] = self.df[columns].rolling(window).mean()\n",
    "        return self.df\n",
    "\n",
    "    # ---------PLOT----------\n",
    "    def fig(self):\n",
    "        return FF.create_candlestick(self.df.open, self.df.high,\n",
    "                                     self.df.low, self.df.close, dates=self.df.index)\n",
    "    def indicator(self):\n",
    "        add_line = [pyg.Scatter(x=self.df.index, y=self.df.ix[:, 4:].value, name='SMA', line=pyg.Line(color='r'))]\n",
    "        self.fig['data'].extend(add_line)\n",
    "\n",
    "    def plot(self, filename='candlestick_and_trace.html'):\n",
    "        self.indicator()\n",
    "        self.fig['layout'].update(xaxis={'showgrid': True})\n",
    "        pyo.iplot(self.fig, filename=filename, validate=False)\n",
    "\n",
    "if __name__ == '__main__':\n",
    "    np.random.seed(1)\n",
    "    df = randomwalk(60 * 24 * 90, freq='T', tick=0.01,\n",
    "                    start=pd.datetime(2017, 3, 20)).resample('B').ohlc() + 115\n",
    "    x = base(df)  # ohlcをbaseに渡す\n",
    "    k = x.sma(5)\n",
    "    print(k.head(5))\n",
    "    x.plot()\n"
   ]
  },
  {
   "cell_type": "code",
   "execution_count": 5,
   "metadata": {
    "ExecuteTime": {
     "end_time": "2017-03-20T16:49:47.311076Z",
     "start_time": "2017-03-20T12:49:47.062350-04:00"
    },
    "collapsed": false,
    "deletable": true,
    "editable": true,
    "run_control": {
     "frozen": false,
     "read_only": false
    }
   },
   "outputs": [
    {
     "data": {
      "text/plain": [
       "array([[     nan],\n",
       "       [     nan],\n",
       "       [     nan],\n",
       "       [     nan],\n",
       "       [ 115.736],\n",
       "       [ 115.858],\n",
       "       [ 116.044],\n",
       "       [ 116.118],\n",
       "       [ 116.076],\n",
       "       [ 116.078],\n",
       "       [ 116.206],\n",
       "       [ 116.288],\n",
       "       [ 116.4  ],\n",
       "       [ 116.498],\n",
       "       [ 116.446],\n",
       "       [ 116.318],\n",
       "       [ 116.072],\n",
       "       [ 115.856],\n",
       "       [ 115.684],\n",
       "       [ 115.642],\n",
       "       [ 115.502],\n",
       "       [ 115.512],\n",
       "       [ 115.438],\n",
       "       [ 115.268],\n",
       "       [ 115.056],\n",
       "       [ 115.03 ],\n",
       "       [ 115.018],\n",
       "       [ 115.05 ],\n",
       "       [ 115.198],\n",
       "       [ 115.226],\n",
       "       [ 115.118],\n",
       "       [ 115.03 ],\n",
       "       [ 114.986],\n",
       "       [ 114.81 ],\n",
       "       [ 114.602],\n",
       "       [ 114.394],\n",
       "       [ 114.066],\n",
       "       [ 113.732],\n",
       "       [ 113.474],\n",
       "       [ 113.28 ],\n",
       "       [ 113.138],\n",
       "       [ 113.108],\n",
       "       [ 113.158],\n",
       "       [ 113.332],\n",
       "       [ 113.716],\n",
       "       [ 114.106],\n",
       "       [ 114.36 ],\n",
       "       [ 114.474],\n",
       "       [ 114.494],\n",
       "       [ 114.398],\n",
       "       [ 114.414],\n",
       "       [ 114.458],\n",
       "       [ 114.438],\n",
       "       [ 114.428],\n",
       "       [ 114.482],\n",
       "       [ 114.418],\n",
       "       [ 114.552],\n",
       "       [ 114.654],\n",
       "       [ 114.742],\n",
       "       [ 114.678],\n",
       "       [ 114.652],\n",
       "       [ 114.53 ],\n",
       "       [ 114.458],\n",
       "       [ 114.34 ],\n",
       "       [ 114.308]])"
      ]
     },
     "execution_count": 5,
     "metadata": {},
     "output_type": "execute_result"
    }
   ],
   "source": [
    "np.array(df.ix[:, 4:])"
   ]
  },
  {
   "cell_type": "code",
   "execution_count": 6,
   "metadata": {
    "ExecuteTime": {
     "end_time": "2017-03-20T16:50:40.692687Z",
     "start_time": "2017-03-20T12:50:40.270858-04:00"
    },
    "collapsed": false,
    "deletable": true,
    "editable": true,
    "run_control": {
     "frozen": false,
     "read_only": false
    }
   },
   "outputs": [
    {
     "data": {
      "text/plain": [
       "2017-03-20         NaN\n",
       "2017-03-21         NaN\n",
       "2017-03-22         NaN\n",
       "2017-03-23         NaN\n",
       "2017-03-24         NaN\n",
       "2017-03-27         NaN\n",
       "2017-03-28         NaN\n",
       "2017-03-29         NaN\n",
       "2017-03-30         NaN\n",
       "2017-03-31         NaN\n",
       "2017-04-03         NaN\n",
       "2017-04-04         NaN\n",
       "2017-04-05         NaN\n",
       "2017-04-06         NaN\n",
       "2017-04-07         NaN\n",
       "2017-04-10         NaN\n",
       "2017-04-11         NaN\n",
       "2017-04-12         NaN\n",
       "2017-04-13         NaN\n",
       "2017-04-14         NaN\n",
       "2017-04-17         NaN\n",
       "2017-04-18         NaN\n",
       "2017-04-19         NaN\n",
       "2017-04-20         NaN\n",
       "2017-04-21    115.7916\n",
       "2017-04-24    115.7828\n",
       "2017-04-25    115.7868\n",
       "2017-04-26    115.7724\n",
       "2017-04-27    115.7448\n",
       "2017-04-28    115.6896\n",
       "                ...   \n",
       "2017-05-08    115.2724\n",
       "2017-05-09    115.1396\n",
       "2017-05-10    115.0124\n",
       "2017-05-11    114.8868\n",
       "2017-05-12    114.7612\n",
       "2017-05-15    114.6364\n",
       "2017-05-16    114.5468\n",
       "2017-05-17    114.4728\n",
       "2017-05-18    114.4164\n",
       "2017-05-19    114.3760\n",
       "2017-05-22    114.3572\n",
       "2017-05-23    114.3164\n",
       "2017-05-24    114.2800\n",
       "2017-05-25    114.2616\n",
       "2017-05-26    114.2444\n",
       "2017-05-29    114.2340\n",
       "2017-05-30    114.2044\n",
       "2017-05-31    114.1576\n",
       "2017-06-01    114.1076\n",
       "2017-06-02    114.0956\n",
       "2017-06-05    114.0940\n",
       "2017-06-06    114.1088\n",
       "2017-06-07    114.0912\n",
       "2017-06-08    114.0940\n",
       "2017-06-09    114.1108\n",
       "2017-06-12    114.1456\n",
       "2017-06-13    114.2016\n",
       "2017-06-14    114.2364\n",
       "2017-06-15    114.2672\n",
       "2017-06-16    114.3164\n",
       "Freq: B, Name: close, dtype: float64"
      ]
     },
     "execution_count": 6,
     "metadata": {},
     "output_type": "execute_result"
    }
   ],
   "source": [
    "df.close.rolling(25).mean()"
   ]
  },
  {
   "cell_type": "code",
   "execution_count": null,
   "metadata": {
    "collapsed": true,
    "deletable": true,
    "editable": true,
    "run_control": {
     "frozen": false,
     "read_only": false
    }
   },
   "outputs": [],
   "source": []
  }
 ],
 "metadata": {
  "anaconda-cloud": {},
  "hide_input": false,
  "kernelspec": {
   "display_name": "Python [default]",
   "language": "python",
   "name": "python3"
  },
  "language_info": {
   "codemirror_mode": {
    "name": "ipython",
    "version": 3
   },
   "file_extension": ".py",
   "mimetype": "text/x-python",
   "name": "python",
   "nbconvert_exporter": "python",
   "pygments_lexer": "ipython3",
   "version": "3.5.3"
  },
  "toc": {
   "nav_menu": {
    "height": "11px",
    "width": "251px"
   },
   "navigate_menu": true,
   "number_sections": true,
   "sideBar": true,
   "threshold": 4,
   "toc_cell": false,
   "toc_section_display": "block",
   "toc_window_display": false
  }
 },
 "nbformat": 4,
 "nbformat_minor": 2
}
